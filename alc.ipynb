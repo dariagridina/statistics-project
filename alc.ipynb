{
 "cells": [
  {
   "cell_type": "code",
   "execution_count": 304,
   "id": "32407893-4ee9-4da0-bd85-c1539aa0ee97",
   "metadata": {},
   "outputs": [],
   "source": [
    "import pandas as pd\n",
    "import pingouin as pg\n",
    "import numpy as np\n",
    "import os, os.path as op\n",
    "\n",
    "import matplotlib.pyplot as plt\n",
    "import seaborn as sns\n",
    "import statsmodels.api as sm\n",
    "import statsmodels.formula.api as smf\n",
    "\n",
    "plt.style.use('ggplot')"
   ]
  },
  {
   "cell_type": "code",
   "execution_count": 305,
   "id": "5d4e26a9-acba-4c54-aeff-424e2bc858e4",
   "metadata": {},
   "outputs": [],
   "source": [
    "def get_estimates(model, long=True):\n",
    "    est = model.conf_int().rename(columns={0:\"LL\",1:\"UL\"})\n",
    "    est.insert(0,\"coef\", model.params)\n",
    "    est = est.reset_index().rename(columns={\"index\":\"variable\"})\n",
    "    \n",
    "    return est\n",
    "\n",
    "\n",
    "def plot_estimates(estimates=None, model=None, figsize=(12,8), boundaries=None, vline=True):\n",
    "\n",
    "    def get_estimates(model, long=True):\n",
    "        est = model.conf_int().rename(columns={0:\"LL\",1:\"UL\"})\n",
    "        est.insert(0,\"coef\", model.params)\n",
    "        est = est.reset_index().rename(columns={\"index\":\"variable\"})\n",
    "\n",
    "        return est\n",
    "    \n",
    "    \n",
    "    if estimates is None:\n",
    "        estimates = get_estimates(model)\n",
    "    \n",
    "    fig, ax = plt.subplots(figsize=figsize)\n",
    "\n",
    "    plt.errorbar(estimates['coef'], estimates.index, xerr=(estimates.UL - estimates.LL)/2, fmt='o', color='black',\n",
    "                 ecolor=estimates.coef.apply(lambda c: '#E41A1C' if c < 0 else '#029E73'), elinewidth=3, capsize=0)\n",
    "\n",
    "    plt.yticks(ticks=estimates.index,labels=estimates['variable'])\n",
    "\n",
    "    if boundaries is not None:\n",
    "        plt.xlim(boundaries[0],boundaries[1])\n",
    "        \n",
    "    if vline == True:\n",
    "        plt.axvline(0,color='black',linewidth=2,alpha=.8,linestyle=\"--\")\n",
    "    \n",
    "\n",
    "    plt.xlabel(\"Estimate\")\n",
    "    plt.ylabel(\"\")\n",
    "    plt.show()\n",
    "    \n",
    "    \n",
    "def scale(data, mean=True, std=True):\n",
    "    if mean == True & std == True:\n",
    "        data = (data - data.mean()) / data.std()\n",
    "    elif mean == True & std == False:\n",
    "        data = data - data.mean()\n",
    "    elif mean == False & std == True:\n",
    "        data = data / data.std()\n",
    "    return data"
   ]
  },
  {
   "cell_type": "code",
   "execution_count": 306,
   "id": "f551a417-ca9c-4932-94af-6829f5af8eff",
   "metadata": {},
   "outputs": [],
   "source": [
    "d = pd.read_csv(op.join(os.getcwd(),'alcohol','gapminder_alcohol.csv'))"
   ]
  },
  {
   "cell_type": "code",
   "execution_count": 307,
   "id": "31214701-caf1-4b32-86ea-871e1f1c8852",
   "metadata": {},
   "outputs": [
    {
     "data": {
      "text/html": [
       "<div>\n",
       "<style scoped>\n",
       "    .dataframe tbody tr th:only-of-type {\n",
       "        vertical-align: middle;\n",
       "    }\n",
       "\n",
       "    .dataframe tbody tr th {\n",
       "        vertical-align: top;\n",
       "    }\n",
       "\n",
       "    .dataframe thead th {\n",
       "        text-align: right;\n",
       "    }\n",
       "</style>\n",
       "<table border=\"1\" class=\"dataframe\">\n",
       "  <thead>\n",
       "    <tr style=\"text-align: right;\">\n",
       "      <th></th>\n",
       "      <th>country</th>\n",
       "      <th>alcohol_consumption</th>\n",
       "      <th>income_per_person</th>\n",
       "      <th>suicide_per_100th</th>\n",
       "      <th>employ_rate</th>\n",
       "      <th>urban_rate</th>\n",
       "      <th>urbanization</th>\n",
       "      <th>employment</th>\n",
       "    </tr>\n",
       "  </thead>\n",
       "  <tbody>\n",
       "    <tr>\n",
       "      <th>0</th>\n",
       "      <td>Afghanistan</td>\n",
       "      <td>0.03</td>\n",
       "      <td>NaN</td>\n",
       "      <td>6.684385</td>\n",
       "      <td>55.700001</td>\n",
       "      <td>24.04</td>\n",
       "      <td>&lt;50</td>\n",
       "      <td>40-60</td>\n",
       "    </tr>\n",
       "    <tr>\n",
       "      <th>1</th>\n",
       "      <td>Albania</td>\n",
       "      <td>7.29</td>\n",
       "      <td>1914.996551</td>\n",
       "      <td>7.699330</td>\n",
       "      <td>51.400002</td>\n",
       "      <td>46.72</td>\n",
       "      <td>&lt;50</td>\n",
       "      <td>40-60</td>\n",
       "    </tr>\n",
       "    <tr>\n",
       "      <th>2</th>\n",
       "      <td>Algeria</td>\n",
       "      <td>0.69</td>\n",
       "      <td>2231.993335</td>\n",
       "      <td>4.848770</td>\n",
       "      <td>50.500000</td>\n",
       "      <td>65.22</td>\n",
       "      <td>50-80</td>\n",
       "      <td>40-60</td>\n",
       "    </tr>\n",
       "    <tr>\n",
       "      <th>3</th>\n",
       "      <td>Andorra</td>\n",
       "      <td>10.17</td>\n",
       "      <td>21943.339900</td>\n",
       "      <td>5.362179</td>\n",
       "      <td>NaN</td>\n",
       "      <td>88.92</td>\n",
       "      <td>&gt;80</td>\n",
       "      <td>NaN</td>\n",
       "    </tr>\n",
       "    <tr>\n",
       "      <th>4</th>\n",
       "      <td>Angola</td>\n",
       "      <td>5.57</td>\n",
       "      <td>1381.004268</td>\n",
       "      <td>14.554677</td>\n",
       "      <td>75.699997</td>\n",
       "      <td>56.70</td>\n",
       "      <td>50-80</td>\n",
       "      <td>&gt;60</td>\n",
       "    </tr>\n",
       "    <tr>\n",
       "      <th>...</th>\n",
       "      <td>...</td>\n",
       "      <td>...</td>\n",
       "      <td>...</td>\n",
       "      <td>...</td>\n",
       "      <td>...</td>\n",
       "      <td>...</td>\n",
       "      <td>...</td>\n",
       "      <td>...</td>\n",
       "    </tr>\n",
       "    <tr>\n",
       "      <th>208</th>\n",
       "      <td>Vietnam</td>\n",
       "      <td>3.91</td>\n",
       "      <td>722.807559</td>\n",
       "      <td>11.653322</td>\n",
       "      <td>71.000000</td>\n",
       "      <td>27.84</td>\n",
       "      <td>&lt;50</td>\n",
       "      <td>&lt;40</td>\n",
       "    </tr>\n",
       "    <tr>\n",
       "      <th>209</th>\n",
       "      <td>West Bank and Gaza</td>\n",
       "      <td>NaN</td>\n",
       "      <td>NaN</td>\n",
       "      <td>NaN</td>\n",
       "      <td>32.000000</td>\n",
       "      <td>71.90</td>\n",
       "      <td>50-80</td>\n",
       "      <td>&lt;40</td>\n",
       "    </tr>\n",
       "    <tr>\n",
       "      <th>210</th>\n",
       "      <td>Yemen. Rep.</td>\n",
       "      <td>0.20</td>\n",
       "      <td>610.357367</td>\n",
       "      <td>6.265789</td>\n",
       "      <td>39.000000</td>\n",
       "      <td>30.64</td>\n",
       "      <td>&lt;50</td>\n",
       "      <td>&lt;40</td>\n",
       "    </tr>\n",
       "    <tr>\n",
       "      <th>211</th>\n",
       "      <td>Zambia</td>\n",
       "      <td>3.56</td>\n",
       "      <td>432.226337</td>\n",
       "      <td>12.019036</td>\n",
       "      <td>61.000000</td>\n",
       "      <td>35.42</td>\n",
       "      <td>&lt;50</td>\n",
       "      <td>&lt;40</td>\n",
       "    </tr>\n",
       "    <tr>\n",
       "      <th>212</th>\n",
       "      <td>Zimbabwe</td>\n",
       "      <td>4.96</td>\n",
       "      <td>320.771890</td>\n",
       "      <td>13.905267</td>\n",
       "      <td>66.800003</td>\n",
       "      <td>37.34</td>\n",
       "      <td>&lt;50</td>\n",
       "      <td>&gt;60</td>\n",
       "    </tr>\n",
       "  </tbody>\n",
       "</table>\n",
       "<p>213 rows × 8 columns</p>\n",
       "</div>"
      ],
      "text/plain": [
       "                country  alcohol_consumption  income_per_person  \\\n",
       "0           Afghanistan                 0.03                NaN   \n",
       "1               Albania                 7.29        1914.996551   \n",
       "2               Algeria                 0.69        2231.993335   \n",
       "3               Andorra                10.17       21943.339900   \n",
       "4                Angola                 5.57        1381.004268   \n",
       "..                  ...                  ...                ...   \n",
       "208             Vietnam                 3.91         722.807559   \n",
       "209  West Bank and Gaza                  NaN                NaN   \n",
       "210         Yemen. Rep.                 0.20         610.357367   \n",
       "211              Zambia                 3.56         432.226337   \n",
       "212            Zimbabwe                 4.96         320.771890   \n",
       "\n",
       "     suicide_per_100th  employ_rate  urban_rate urbanization employment  \n",
       "0             6.684385    55.700001       24.04          <50      40-60  \n",
       "1             7.699330    51.400002       46.72          <50      40-60  \n",
       "2             4.848770    50.500000       65.22        50-80      40-60  \n",
       "3             5.362179          NaN       88.92          >80        NaN  \n",
       "4            14.554677    75.699997       56.70        50-80        >60  \n",
       "..                 ...          ...         ...          ...        ...  \n",
       "208          11.653322    71.000000       27.84          <50        <40  \n",
       "209                NaN    32.000000       71.90        50-80        <40  \n",
       "210           6.265789    39.000000       30.64          <50        <40  \n",
       "211          12.019036    61.000000       35.42          <50        <40  \n",
       "212          13.905267    66.800003       37.34          <50        >60  \n",
       "\n",
       "[213 rows x 8 columns]"
      ]
     },
     "execution_count": 307,
     "metadata": {},
     "output_type": "execute_result"
    }
   ],
   "source": [
    "d"
   ]
  },
  {
   "cell_type": "code",
   "execution_count": 308,
   "id": "25697f7e-b6c0-4ba5-8992-c0b1827e4a3c",
   "metadata": {},
   "outputs": [],
   "source": [
    "high_urban_rate = d['urbanization'] == '>80'\n",
    "high_urban_rate_data = d[high_urban_rate]\n",
    "\n",
    "medium_urban_rate = d['urbanization'] == '50-80'\n",
    "medium_urban_rate_data = d[medium_urban_rate]\n",
    "\n",
    "low_urban_rate = d['urbanization'] == '<50'\n",
    "low_urban_rate_data = d[low_urban_rate]"
   ]
  },
  {
   "cell_type": "markdown",
   "id": "537c2903-9c8a-41a0-a9fb-d4f22e742996",
   "metadata": {},
   "source": [
    "## test t-Studenta dla prób niezależnych"
   ]
  },
  {
   "cell_type": "markdown",
   "id": "560fc9f2-2329-4eea-b33f-86010046c61d",
   "metadata": {},
   "source": [
    "#### Czy ludzie w państwach z poziomem urbanizacji pomiędzy 50-80% spożywają więcej alcoholu niż ludzie w państwach z poziomem urbanizacji poniżej 50%?\n",
    "\n",
    "* H0: Ludzie w państwach z poziomem urbanizacji pomiędzy 50-80% nie spożywają więcej alcoholu niż ludzie w państwach z poziomem urbanizacji poniżej 50%.\n",
    "\n",
    "* HA: Ludzie w państwach z poziomem urbanizacji pomiędzy 50-80% spożywają więcej alcoholu niż ludzie w państwach z poziomem urbanizacji poniżej 50%."
   ]
  },
  {
   "cell_type": "code",
   "execution_count": 309,
   "id": "672d3526-33e3-4887-b7fc-2da5a8dae3d0",
   "metadata": {},
   "outputs": [
    {
     "data": {
      "text/html": [
       "<div>\n",
       "<style scoped>\n",
       "    .dataframe tbody tr th:only-of-type {\n",
       "        vertical-align: middle;\n",
       "    }\n",
       "\n",
       "    .dataframe tbody tr th {\n",
       "        vertical-align: top;\n",
       "    }\n",
       "\n",
       "    .dataframe thead th {\n",
       "        text-align: right;\n",
       "    }\n",
       "</style>\n",
       "<table border=\"1\" class=\"dataframe\">\n",
       "  <thead>\n",
       "    <tr style=\"text-align: right;\">\n",
       "      <th></th>\n",
       "      <th>T</th>\n",
       "      <th>dof</th>\n",
       "      <th>alternative</th>\n",
       "      <th>p-val</th>\n",
       "      <th>CI95%</th>\n",
       "      <th>cohen-d</th>\n",
       "      <th>BF10</th>\n",
       "      <th>power</th>\n",
       "    </tr>\n",
       "  </thead>\n",
       "  <tbody>\n",
       "    <tr>\n",
       "      <th>T-test</th>\n",
       "      <td>4.09208</td>\n",
       "      <td>144.321492</td>\n",
       "      <td>two-sided</td>\n",
       "      <td>0.000071</td>\n",
       "      <td>[1.63, 4.66]</td>\n",
       "      <td>0.661595</td>\n",
       "      <td>294.979</td>\n",
       "      <td>0.983427</td>\n",
       "    </tr>\n",
       "  </tbody>\n",
       "</table>\n",
       "</div>"
      ],
      "text/plain": [
       "              T         dof alternative     p-val         CI95%   cohen-d  \\\n",
       "T-test  4.09208  144.321492   two-sided  0.000071  [1.63, 4.66]  0.661595   \n",
       "\n",
       "           BF10     power  \n",
       "T-test  294.979  0.983427  "
      ]
     },
     "execution_count": 309,
     "metadata": {},
     "output_type": "execute_result"
    }
   ],
   "source": [
    "pg.ttest(medium_urban_rate_data['alcohol_consumption'], low_urban_rate_data['alcohol_consumption'])"
   ]
  },
  {
   "cell_type": "code",
   "execution_count": 310,
   "id": "93ca047f-c656-4327-b75b-64f96d7baddb",
   "metadata": {},
   "outputs": [
    {
     "data": {
      "text/html": [
       "<div>\n",
       "<style scoped>\n",
       "    .dataframe tbody tr th:only-of-type {\n",
       "        vertical-align: middle;\n",
       "    }\n",
       "\n",
       "    .dataframe tbody tr th {\n",
       "        vertical-align: top;\n",
       "    }\n",
       "\n",
       "    .dataframe thead tr th {\n",
       "        text-align: left;\n",
       "    }\n",
       "\n",
       "    .dataframe thead tr:last-of-type th {\n",
       "        text-align: right;\n",
       "    }\n",
       "</style>\n",
       "<table border=\"1\" class=\"dataframe\">\n",
       "  <thead>\n",
       "    <tr>\n",
       "      <th></th>\n",
       "      <th colspan=\"2\" halign=\"left\">alcohol_consumption</th>\n",
       "      <th colspan=\"2\" halign=\"left\">income_per_person</th>\n",
       "      <th colspan=\"2\" halign=\"left\">suicide_per_100th</th>\n",
       "      <th colspan=\"2\" halign=\"left\">employ_rate</th>\n",
       "      <th colspan=\"2\" halign=\"left\">urban_rate</th>\n",
       "    </tr>\n",
       "    <tr>\n",
       "      <th></th>\n",
       "      <th>mean</th>\n",
       "      <th>std</th>\n",
       "      <th>mean</th>\n",
       "      <th>std</th>\n",
       "      <th>mean</th>\n",
       "      <th>std</th>\n",
       "      <th>mean</th>\n",
       "      <th>std</th>\n",
       "      <th>mean</th>\n",
       "      <th>std</th>\n",
       "    </tr>\n",
       "    <tr>\n",
       "      <th>urbanization</th>\n",
       "      <th></th>\n",
       "      <th></th>\n",
       "      <th></th>\n",
       "      <th></th>\n",
       "      <th></th>\n",
       "      <th></th>\n",
       "      <th></th>\n",
       "      <th></th>\n",
       "      <th></th>\n",
       "      <th></th>\n",
       "    </tr>\n",
       "  </thead>\n",
       "  <tbody>\n",
       "    <tr>\n",
       "      <th>50-80</th>\n",
       "      <td>8.12</td>\n",
       "      <td>5.18</td>\n",
       "      <td>7274.64</td>\n",
       "      <td>9421.22</td>\n",
       "      <td>9.54</td>\n",
       "      <td>6.86</td>\n",
       "      <td>55.29</td>\n",
       "      <td>9.22</td>\n",
       "      <td>64.79</td>\n",
       "      <td>8.02</td>\n",
       "    </tr>\n",
       "    <tr>\n",
       "      <th>&lt;50</th>\n",
       "      <td>4.98</td>\n",
       "      <td>4.31</td>\n",
       "      <td>6210.79</td>\n",
       "      <td>16776.38</td>\n",
       "      <td>10.46</td>\n",
       "      <td>6.33</td>\n",
       "      <td>62.81</td>\n",
       "      <td>11.10</td>\n",
       "      <td>37.72</td>\n",
       "      <td>20.83</td>\n",
       "    </tr>\n",
       "    <tr>\n",
       "      <th>&gt;80</th>\n",
       "      <td>8.03</td>\n",
       "      <td>4.44</td>\n",
       "      <td>19690.02</td>\n",
       "      <td>12277.88</td>\n",
       "      <td>8.10</td>\n",
       "      <td>4.51</td>\n",
       "      <td>58.63</td>\n",
       "      <td>8.04</td>\n",
       "      <td>88.44</td>\n",
       "      <td>5.40</td>\n",
       "    </tr>\n",
       "  </tbody>\n",
       "</table>\n",
       "</div>"
      ],
      "text/plain": [
       "             alcohol_consumption       income_per_person            \\\n",
       "                            mean   std              mean       std   \n",
       "urbanization                                                         \n",
       "50-80                       8.12  5.18           7274.64   9421.22   \n",
       "<50                         4.98  4.31           6210.79  16776.38   \n",
       ">80                         8.03  4.44          19690.02  12277.88   \n",
       "\n",
       "             suicide_per_100th       employ_rate        urban_rate         \n",
       "                          mean   std        mean    std       mean    std  \n",
       "urbanization                                                               \n",
       "50-80                     9.54  6.86       55.29   9.22      64.79   8.02  \n",
       "<50                      10.46  6.33       62.81  11.10      37.72  20.83  \n",
       ">80                       8.10  4.51       58.63   8.04      88.44   5.40  "
      ]
     },
     "execution_count": 310,
     "metadata": {},
     "output_type": "execute_result"
    }
   ],
   "source": [
    "d.groupby(['urbanization']).agg([np.mean, np.std]).round(2)"
   ]
  },
  {
   "cell_type": "code",
   "execution_count": 311,
   "id": "c509ee22-6e19-475e-b1b1-efda3714b1c6",
   "metadata": {},
   "outputs": [],
   "source": [
    "myColours = ['#4878d0', '#d65f5f', '#d5bb67', '#797979', '#dc7ec0', '#ee854a']"
   ]
  },
  {
   "cell_type": "code",
   "execution_count": 312,
   "id": "8c6db295-8ca4-4fa0-9bf1-c9d72a89c38c",
   "metadata": {},
   "outputs": [
    {
     "data": {
      "text/plain": [
       "(0.0, 10.0)"
      ]
     },
     "execution_count": 312,
     "metadata": {},
     "output_type": "execute_result"
    },
    {
     "data": {
      "image/png": "[encoded data removed]",
      "text/plain": [
       "<Figure size 864x432 with 1 Axes>"
      ]
     },
     "metadata": {},
     "output_type": "display_data"
    }
   ],
   "source": [
    "font_title = {'family': 'Arial',\n",
    "       'size': 20}\n",
    "font = {'family': 'Arial',\n",
    "       'size': 16}\n",
    "font_ticks = {'family': 'Arial',\n",
    "       'size': 13}\n",
    "\n",
    "fig, ax = plt.subplots(figsize=(12,6))\n",
    "\n",
    "sns.barplot(x='urbanization', y='alcohol_consumption',\n",
    "            data=d, palette=myColours[1:5], capsize=.10)\n",
    "\n",
    "ax.set_title('Spożycie alkoholu a poziom urbanizacji w krajach', fontdict=font_title, pad=15)\n",
    "\n",
    "ax.set_ylabel('Spożycie alkoholu na dorosłą osobę', fontdict=font, labelpad=10)\n",
    "\n",
    "ax.set_xlabel('Poziom urbanizacji', fontdict=font, labelpad=12)\n",
    "\n",
    "ax.set_xticklabels(['< 50%', '50 - 80%', '> 80%'], fontdict=font_ticks)\n",
    "\n",
    "ax.yaxis.set_major_formatter('{x} L')\n",
    "\n",
    "ax.tick_params(axis='y', which='major', labelsize=11)\n",
    "\n",
    "ax.grid(which='major', axis='y', ls=':')\n",
    "\n",
    "ax.set_ylim(0, 10)"
   ]
  },
  {
   "cell_type": "markdown",
   "id": "b58aa54c-9522-405f-8d70-5616a896e713",
   "metadata": {},
   "source": [
    "W celu sprawdzenia czy ludzie w państwach z poziomem urbanizacji pomiędzy 50-80% spożywają więcej alcoholu niż państwach z poziomem urbanizacji poniżej 50%, wykonano analizę t-Studenta dla prób niezależnych. Wynik analizy wykazał się istotny statystycznie, t(144) = 4.09 ; p < 0.001 ; d = 0.66. Wynik d Cohena wykazuje na występowanie średniego efektu. Spożycie alkoholu w państwach z poziomem urbanizacji pomiędzy 50-80% (M = 8.12 ; SD = 5.18) jest większe od spożycia alkoholu w państwach z poziomem urbanizacji poniżej 50% (M = 4.98 ; SD = 4.31)."
   ]
  },
  {
   "cell_type": "markdown",
   "id": "b40f0f57-e4f6-4d0b-8969-7681195c4cc9",
   "metadata": {},
   "source": [
    "## Jednoczynnikowa analiza wariancji (ANOVA) w schemacie międzygrupowym."
   ]
  },
  {
   "cell_type": "markdown",
   "id": "3d59307c-ff19-43d6-8a09-ae5a44cd66bb",
   "metadata": {},
   "source": [
    "### Czy ilość spożycia alkoholu wpływa na stopę zatrudnienia?\n",
    "\n",
    "* H0: Ilość spożycia alkoholu nie wpływa na stopę zatrudnienia.\n",
    "\n",
    "* HA: Ilość spożycia alkoholu wpływa na stopę zatrudnienia."
   ]
  },
  {
   "cell_type": "code",
   "execution_count": 313,
   "id": "1ec53651-502c-49a2-9936-2c5a4c8999ac",
   "metadata": {},
   "outputs": [],
   "source": [
    "high_employ_rate = d['employment'] == '>60'\n",
    "high_employ_rate_data = d[high_employ_rate]\n",
    "\n",
    "medium_employ_rate = d['employment'] == '40-60'\n",
    "medium_employ_rate_data = d[medium_employ_rate]\n",
    "\n",
    "low_employ_rate = d['employment'] == '<40'\n",
    "low_employ_rate_data = d[low_employ_rate]"
   ]
  },
  {
   "cell_type": "code",
   "execution_count": 314,
   "id": "fbe8da42-d9b3-4e18-be18-3316266ae53b",
   "metadata": {},
   "outputs": [
    {
     "data": {
      "text/html": [
       "<div>\n",
       "<style scoped>\n",
       "    .dataframe tbody tr th:only-of-type {\n",
       "        vertical-align: middle;\n",
       "    }\n",
       "\n",
       "    .dataframe tbody tr th {\n",
       "        vertical-align: top;\n",
       "    }\n",
       "\n",
       "    .dataframe thead tr th {\n",
       "        text-align: left;\n",
       "    }\n",
       "\n",
       "    .dataframe thead tr:last-of-type th {\n",
       "        text-align: right;\n",
       "    }\n",
       "</style>\n",
       "<table border=\"1\" class=\"dataframe\">\n",
       "  <thead>\n",
       "    <tr>\n",
       "      <th></th>\n",
       "      <th colspan=\"2\" halign=\"left\">alcohol_consumption</th>\n",
       "      <th colspan=\"2\" halign=\"left\">income_per_person</th>\n",
       "      <th colspan=\"2\" halign=\"left\">suicide_per_100th</th>\n",
       "      <th colspan=\"2\" halign=\"left\">employ_rate</th>\n",
       "      <th colspan=\"2\" halign=\"left\">urban_rate</th>\n",
       "    </tr>\n",
       "    <tr>\n",
       "      <th></th>\n",
       "      <th>mean</th>\n",
       "      <th>std</th>\n",
       "      <th>mean</th>\n",
       "      <th>std</th>\n",
       "      <th>mean</th>\n",
       "      <th>std</th>\n",
       "      <th>mean</th>\n",
       "      <th>std</th>\n",
       "      <th>mean</th>\n",
       "      <th>std</th>\n",
       "    </tr>\n",
       "    <tr>\n",
       "      <th>employment</th>\n",
       "      <th></th>\n",
       "      <th></th>\n",
       "      <th></th>\n",
       "      <th></th>\n",
       "      <th></th>\n",
       "      <th></th>\n",
       "      <th></th>\n",
       "      <th></th>\n",
       "      <th></th>\n",
       "      <th></th>\n",
       "    </tr>\n",
       "  </thead>\n",
       "  <tbody>\n",
       "    <tr>\n",
       "      <th>40-60</th>\n",
       "      <td>8.36</td>\n",
       "      <td>5.25</td>\n",
       "      <td>8626.93</td>\n",
       "      <td>10657.13</td>\n",
       "      <td>11.53</td>\n",
       "      <td>7.75</td>\n",
       "      <td>55.32</td>\n",
       "      <td>3.38</td>\n",
       "      <td>60.38</td>\n",
       "      <td>19.49</td>\n",
       "    </tr>\n",
       "    <tr>\n",
       "      <th>&lt;40</th>\n",
       "      <td>5.77</td>\n",
       "      <td>5.51</td>\n",
       "      <td>5840.86</td>\n",
       "      <td>9311.80</td>\n",
       "      <td>9.02</td>\n",
       "      <td>5.94</td>\n",
       "      <td>51.36</td>\n",
       "      <td>12.11</td>\n",
       "      <td>59.69</td>\n",
       "      <td>21.75</td>\n",
       "    </tr>\n",
       "    <tr>\n",
       "      <th>&gt;60</th>\n",
       "      <td>5.50</td>\n",
       "      <td>3.88</td>\n",
       "      <td>7862.39</td>\n",
       "      <td>12011.81</td>\n",
       "      <td>9.19</td>\n",
       "      <td>5.10</td>\n",
       "      <td>68.24</td>\n",
       "      <td>6.63</td>\n",
       "      <td>50.30</td>\n",
       "      <td>26.84</td>\n",
       "    </tr>\n",
       "  </tbody>\n",
       "</table>\n",
       "</div>"
      ],
      "text/plain": [
       "           alcohol_consumption       income_per_person            \\\n",
       "                          mean   std              mean       std   \n",
       "employment                                                         \n",
       "40-60                     8.36  5.25           8626.93  10657.13   \n",
       "<40                       5.77  5.51           5840.86   9311.80   \n",
       ">60                       5.50  3.88           7862.39  12011.81   \n",
       "\n",
       "           suicide_per_100th       employ_rate        urban_rate         \n",
       "                        mean   std        mean    std       mean    std  \n",
       "employment                                                               \n",
       "40-60                  11.53  7.75       55.32   3.38      60.38  19.49  \n",
       "<40                     9.02  5.94       51.36  12.11      59.69  21.75  \n",
       ">60                     9.19  5.10       68.24   6.63      50.30  26.84  "
      ]
     },
     "execution_count": 314,
     "metadata": {},
     "output_type": "execute_result"
    }
   ],
   "source": [
    "d.groupby(['employment']).agg([np.mean, np.std]).round(2)"
   ]
  },
  {
   "cell_type": "code",
   "execution_count": 315,
   "id": "fac41d06-ca7a-420e-a864-22798704053f",
   "metadata": {},
   "outputs": [
    {
     "data": {
      "text/plain": [
       "<seaborn.axisgrid.FacetGrid at 0x28328d484c0>"
      ]
     },
     "execution_count": 315,
     "metadata": {},
     "output_type": "execute_result"
    },
    {
     "data": {
      "image/png": "[encoded data removed]",
      "text/plain": [
       "<Figure size 648x216 with 3 Axes>"
      ]
     },
     "metadata": {},
     "output_type": "display_data"
    }
   ],
   "source": [
    "g = sns.FacetGrid(data=d, col='employment')\n",
    "\n",
    "g.map_dataframe(sns.histplot, x='alcohol_consumption')\n",
    "g.set_xlabels('Alcohol consumption (L)', labelpad=10)\n",
    "g.set_ylabels('Count', labelpad=10)\n",
    "g.set_titles(col_template=\"Employment rate {col_name}%\")"
   ]
  },
  {
   "cell_type": "code",
   "execution_count": 316,
   "id": "286ecc55-b128-455f-b6ba-8d828d2d2493",
   "metadata": {},
   "outputs": [
    {
     "data": {
      "text/html": [
       "<div>\n",
       "<style scoped>\n",
       "    .dataframe tbody tr th:only-of-type {\n",
       "        vertical-align: middle;\n",
       "    }\n",
       "\n",
       "    .dataframe tbody tr th {\n",
       "        vertical-align: top;\n",
       "    }\n",
       "\n",
       "    .dataframe thead th {\n",
       "        text-align: right;\n",
       "    }\n",
       "</style>\n",
       "<table border=\"1\" class=\"dataframe\">\n",
       "  <thead>\n",
       "    <tr style=\"text-align: right;\">\n",
       "      <th></th>\n",
       "      <th>Source</th>\n",
       "      <th>ddof1</th>\n",
       "      <th>ddof2</th>\n",
       "      <th>F</th>\n",
       "      <th>p-unc</th>\n",
       "      <th>np2</th>\n",
       "    </tr>\n",
       "  </thead>\n",
       "  <tbody>\n",
       "    <tr>\n",
       "      <th>0</th>\n",
       "      <td>employment</td>\n",
       "      <td>2</td>\n",
       "      <td>163</td>\n",
       "      <td>6.232</td>\n",
       "      <td>0.0025</td>\n",
       "      <td>0.071</td>\n",
       "    </tr>\n",
       "  </tbody>\n",
       "</table>\n",
       "</div>"
      ],
      "text/plain": [
       "       Source  ddof1  ddof2      F   p-unc    np2\n",
       "0  employment      2    163  6.232  0.0025  0.071"
      ]
     },
     "execution_count": 316,
     "metadata": {},
     "output_type": "execute_result"
    }
   ],
   "source": [
    "pg.anova(data=d, dv='alcohol_consumption', between='employment').round(4)"
   ]
  },
  {
   "cell_type": "markdown",
   "id": "fc3b2eab-af2d-4b81-b189-1f208d25600a",
   "metadata": {},
   "source": [
    "F(2, 163) = 6.23 ; p = 0.002 ; etap2 = 0.07"
   ]
  },
  {
   "cell_type": "code",
   "execution_count": 317,
   "id": "6387423f-d28d-435b-852d-5eda917aab79",
   "metadata": {},
   "outputs": [
    {
     "data": {
      "text/html": [
       "<div>\n",
       "<style scoped>\n",
       "    .dataframe tbody tr th:only-of-type {\n",
       "        vertical-align: middle;\n",
       "    }\n",
       "\n",
       "    .dataframe tbody tr th {\n",
       "        vertical-align: top;\n",
       "    }\n",
       "\n",
       "    .dataframe thead th {\n",
       "        text-align: right;\n",
       "    }\n",
       "</style>\n",
       "<table border=\"1\" class=\"dataframe\">\n",
       "  <thead>\n",
       "    <tr style=\"text-align: right;\">\n",
       "      <th></th>\n",
       "      <th>Contrast</th>\n",
       "      <th>A</th>\n",
       "      <th>B</th>\n",
       "      <th>Paired</th>\n",
       "      <th>Parametric</th>\n",
       "      <th>T</th>\n",
       "      <th>dof</th>\n",
       "      <th>alternative</th>\n",
       "      <th>p-unc</th>\n",
       "      <th>p-corr</th>\n",
       "      <th>p-adjust</th>\n",
       "      <th>BF10</th>\n",
       "      <th>cohen</th>\n",
       "    </tr>\n",
       "  </thead>\n",
       "  <tbody>\n",
       "    <tr>\n",
       "      <th>0</th>\n",
       "      <td>employment</td>\n",
       "      <td>40-60</td>\n",
       "      <td>&lt;40</td>\n",
       "      <td>False</td>\n",
       "      <td>True</td>\n",
       "      <td>2.4435</td>\n",
       "      <td>89.7165</td>\n",
       "      <td>two-sided</td>\n",
       "      <td>0.0165</td>\n",
       "      <td>0.0487</td>\n",
       "      <td>sidak</td>\n",
       "      <td>2.857</td>\n",
       "      <td>0.4843</td>\n",
       "    </tr>\n",
       "    <tr>\n",
       "      <th>1</th>\n",
       "      <td>employment</td>\n",
       "      <td>40-60</td>\n",
       "      <td>&gt;60</td>\n",
       "      <td>False</td>\n",
       "      <td>True</td>\n",
       "      <td>3.4422</td>\n",
       "      <td>114.0300</td>\n",
       "      <td>two-sided</td>\n",
       "      <td>0.0008</td>\n",
       "      <td>0.0024</td>\n",
       "      <td>sidak</td>\n",
       "      <td>35.012</td>\n",
       "      <td>0.6176</td>\n",
       "    </tr>\n",
       "    <tr>\n",
       "      <th>2</th>\n",
       "      <td>employment</td>\n",
       "      <td>&lt;40</td>\n",
       "      <td>&gt;60</td>\n",
       "      <td>False</td>\n",
       "      <td>True</td>\n",
       "      <td>0.2773</td>\n",
       "      <td>73.2683</td>\n",
       "      <td>two-sided</td>\n",
       "      <td>0.7823</td>\n",
       "      <td>0.9897</td>\n",
       "      <td>sidak</td>\n",
       "      <td>0.217</td>\n",
       "      <td>0.0580</td>\n",
       "    </tr>\n",
       "  </tbody>\n",
       "</table>\n",
       "</div>"
      ],
      "text/plain": [
       "     Contrast      A    B  Paired  Parametric       T       dof alternative  \\\n",
       "0  employment  40-60  <40   False        True  2.4435   89.7165   two-sided   \n",
       "1  employment  40-60  >60   False        True  3.4422  114.0300   two-sided   \n",
       "2  employment    <40  >60   False        True  0.2773   73.2683   two-sided   \n",
       "\n",
       "    p-unc  p-corr p-adjust    BF10   cohen  \n",
       "0  0.0165  0.0487    sidak   2.857  0.4843  \n",
       "1  0.0008  0.0024    sidak  35.012  0.6176  \n",
       "2  0.7823  0.9897    sidak   0.217  0.0580  "
      ]
     },
     "execution_count": 317,
     "metadata": {},
     "output_type": "execute_result"
    }
   ],
   "source": [
    "pg.pairwise_ttests(data=d, dv='alcohol_consumption', between='employment', effsize='cohen', padjust='sidak').round(4)"
   ]
  },
  {
   "cell_type": "code",
   "execution_count": 318,
   "id": "ee5559bb-606c-4100-9697-aa45df10ccbc",
   "metadata": {},
   "outputs": [
    {
     "data": {
      "text/html": [
       "<div>\n",
       "<style scoped>\n",
       "    .dataframe tbody tr th:only-of-type {\n",
       "        vertical-align: middle;\n",
       "    }\n",
       "\n",
       "    .dataframe tbody tr th {\n",
       "        vertical-align: top;\n",
       "    }\n",
       "\n",
       "    .dataframe thead tr th {\n",
       "        text-align: left;\n",
       "    }\n",
       "\n",
       "    .dataframe thead tr:last-of-type th {\n",
       "        text-align: right;\n",
       "    }\n",
       "</style>\n",
       "<table border=\"1\" class=\"dataframe\">\n",
       "  <thead>\n",
       "    <tr>\n",
       "      <th></th>\n",
       "      <th colspan=\"2\" halign=\"left\">alcohol_consumption</th>\n",
       "      <th colspan=\"2\" halign=\"left\">income_per_person</th>\n",
       "      <th colspan=\"2\" halign=\"left\">suicide_per_100th</th>\n",
       "      <th colspan=\"2\" halign=\"left\">employ_rate</th>\n",
       "      <th colspan=\"2\" halign=\"left\">urban_rate</th>\n",
       "    </tr>\n",
       "    <tr>\n",
       "      <th></th>\n",
       "      <th>mean</th>\n",
       "      <th>std</th>\n",
       "      <th>mean</th>\n",
       "      <th>std</th>\n",
       "      <th>mean</th>\n",
       "      <th>std</th>\n",
       "      <th>mean</th>\n",
       "      <th>std</th>\n",
       "      <th>mean</th>\n",
       "      <th>std</th>\n",
       "    </tr>\n",
       "    <tr>\n",
       "      <th>employment</th>\n",
       "      <th></th>\n",
       "      <th></th>\n",
       "      <th></th>\n",
       "      <th></th>\n",
       "      <th></th>\n",
       "      <th></th>\n",
       "      <th></th>\n",
       "      <th></th>\n",
       "      <th></th>\n",
       "      <th></th>\n",
       "    </tr>\n",
       "  </thead>\n",
       "  <tbody>\n",
       "    <tr>\n",
       "      <th>40-60</th>\n",
       "      <td>8.36</td>\n",
       "      <td>5.25</td>\n",
       "      <td>8626.93</td>\n",
       "      <td>10657.13</td>\n",
       "      <td>11.53</td>\n",
       "      <td>7.75</td>\n",
       "      <td>55.32</td>\n",
       "      <td>3.38</td>\n",
       "      <td>60.38</td>\n",
       "      <td>19.49</td>\n",
       "    </tr>\n",
       "    <tr>\n",
       "      <th>&lt;40</th>\n",
       "      <td>5.77</td>\n",
       "      <td>5.51</td>\n",
       "      <td>5840.86</td>\n",
       "      <td>9311.80</td>\n",
       "      <td>9.02</td>\n",
       "      <td>5.94</td>\n",
       "      <td>51.36</td>\n",
       "      <td>12.11</td>\n",
       "      <td>59.69</td>\n",
       "      <td>21.75</td>\n",
       "    </tr>\n",
       "    <tr>\n",
       "      <th>&gt;60</th>\n",
       "      <td>5.50</td>\n",
       "      <td>3.88</td>\n",
       "      <td>7862.39</td>\n",
       "      <td>12011.81</td>\n",
       "      <td>9.19</td>\n",
       "      <td>5.10</td>\n",
       "      <td>68.24</td>\n",
       "      <td>6.63</td>\n",
       "      <td>50.30</td>\n",
       "      <td>26.84</td>\n",
       "    </tr>\n",
       "  </tbody>\n",
       "</table>\n",
       "</div>"
      ],
      "text/plain": [
       "           alcohol_consumption       income_per_person            \\\n",
       "                          mean   std              mean       std   \n",
       "employment                                                         \n",
       "40-60                     8.36  5.25           8626.93  10657.13   \n",
       "<40                       5.77  5.51           5840.86   9311.80   \n",
       ">60                       5.50  3.88           7862.39  12011.81   \n",
       "\n",
       "           suicide_per_100th       employ_rate        urban_rate         \n",
       "                        mean   std        mean    std       mean    std  \n",
       "employment                                                               \n",
       "40-60                  11.53  7.75       55.32   3.38      60.38  19.49  \n",
       "<40                     9.02  5.94       51.36  12.11      59.69  21.75  \n",
       ">60                     9.19  5.10       68.24   6.63      50.30  26.84  "
      ]
     },
     "execution_count": 318,
     "metadata": {},
     "output_type": "execute_result"
    }
   ],
   "source": [
    "d.groupby(['employment']).agg([np.mean, np.std]).round(2)"
   ]
  },
  {
   "cell_type": "code",
   "execution_count": 319,
   "id": "4dc4f135-8a1f-4cfe-8bb9-3a48810f0327",
   "metadata": {},
   "outputs": [
    {
     "data": {
      "text/plain": [
       "(0.0, 10.0)"
      ]
     },
     "execution_count": 319,
     "metadata": {},
     "output_type": "execute_result"
    },
    {
     "data": {
      "image/png": "[encoded data removed]",
      "text/plain": [
       "<Figure size 864x432 with 1 Axes>"
      ]
     },
     "metadata": {},
     "output_type": "display_data"
    }
   ],
   "source": [
    "font_title = {'family': 'Arial',\n",
    "       'size': 20}\n",
    "font = {'family': 'Arial',\n",
    "       'size': 16}\n",
    "font_ticks = {'family': 'Arial',\n",
    "       'size': 13}\n",
    "\n",
    "fig, ax = plt.subplots(figsize=(12,6))\n",
    "\n",
    "sns.barplot(x='employment', y='alcohol_consumption',\n",
    "            data=d, palette=myColours[1:5], capsize=.10)\n",
    "\n",
    "ax.set_title('Spożycie alkoholu a stopa zatrudnienia w krajach', fontdict=font_title, pad=15)\n",
    "\n",
    "ax.set_ylabel('Spożycie alkoholu na dorosłą osobę', fontdict=font, labelpad=10)\n",
    "\n",
    "ax.set_xlabel('Stopa zatrudnienia', fontdict=font, labelpad=12)\n",
    "\n",
    "ax.set_xticklabels(['40 - 60%', '> 60%', '< 40%'], fontdict=font_ticks)\n",
    "\n",
    "ax.yaxis.set_major_formatter('{x} L')\n",
    "\n",
    "ax.tick_params(axis='y', which='major', labelsize=11)\n",
    "\n",
    "ax.grid(which='major', axis='y', ls=':')\n",
    "\n",
    "ax.set_ylim(0, 10)"
   ]
  },
  {
   "cell_type": "markdown",
   "id": "101f6958-cbb6-4f73-bc8e-52af18db2338",
   "metadata": {},
   "source": [
    "W celu sprawdzenia czy ilość spożycia alkoholu wpływa na stopień zatrudnienia, wykonano jednoczynnikową analizę wariancji w schemacie międzygrupowym. Wynik tej analizy okazał się istotny statystycznie, F(2, 163) = 6.23 ; p = 0.002 ; etap2 = 0.07. Wynik etap2 wykazuje na występowanie średniego efektu zatrudnienia. Porównania parami z korektą Sidaka wykazały istnienie istotnych statystycznie różnic między: \n",
    "\n",
    "- Państwami ze stopą zatrudnienia pomiędzy 40-60% a państwami ze stopą zatrudnienia poniżej 40% (p = 0.048),\n",
    "- Państwami ze stopą zatrudnienia pomiędzy 40-60% a państwami ze stopą zatrudnienia powyżej 60% (p = 0.002).\n",
    "\n",
    "Nie wykazano istotnych statystycznie różnic między państwami ze stopą zatrudnienia poniżej 40% a państwami ze stopą zatrudnienia powyżej 60% (p = 0.99).\n",
    "\n",
    "Państwa ze stopą zatrudnienia pomiędzy 40-60% (M = 8.36 ; SD = 5.25) piją więcej alkoholu zarówno od państw ze stopą zatrudnienia poniżej 40% (M = 5.77 ; SD = 5.51), jak i od państw ze stopą zatrudnienia powyżej 60% (M = 5.50 ; SD = 3.88)."
   ]
  },
  {
   "cell_type": "markdown",
   "id": "4e671307-0485-4244-afc9-2ea22a0f8268",
   "metadata": {},
   "source": [
    "## Analiza korelacji"
   ]
  },
  {
   "cell_type": "markdown",
   "id": "8cec1a65-f5a2-4f78-8de6-5e02bef6d4b1",
   "metadata": {},
   "source": [
    "### Czy spożycie alkoholu jest powiązane z ilością samobójstw?\n",
    "\n",
    "* H0: Spożycie alkoholu nie jest powiązane z ilością samobójstw.\n",
    "* HA: Spożycie alkoholu jest powiązane z ilością samobójstw."
   ]
  },
  {
   "cell_type": "code",
   "execution_count": 320,
   "id": "fc3016be-2b0d-4b3d-93c5-aaf1c68859c7",
   "metadata": {},
   "outputs": [
    {
     "data": {
      "text/html": [
       "<div>\n",
       "<style scoped>\n",
       "    .dataframe tbody tr th:only-of-type {\n",
       "        vertical-align: middle;\n",
       "    }\n",
       "\n",
       "    .dataframe tbody tr th {\n",
       "        vertical-align: top;\n",
       "    }\n",
       "\n",
       "    .dataframe thead th {\n",
       "        text-align: right;\n",
       "    }\n",
       "</style>\n",
       "<table border=\"1\" class=\"dataframe\">\n",
       "  <thead>\n",
       "    <tr style=\"text-align: right;\">\n",
       "      <th></th>\n",
       "      <th>n</th>\n",
       "      <th>r</th>\n",
       "      <th>CI95%</th>\n",
       "      <th>p-val</th>\n",
       "      <th>BF10</th>\n",
       "      <th>power</th>\n",
       "    </tr>\n",
       "  </thead>\n",
       "  <tbody>\n",
       "    <tr>\n",
       "      <th>pearson</th>\n",
       "      <td>185</td>\n",
       "      <td>0.3546</td>\n",
       "      <td>[0.22, 0.47]</td>\n",
       "      <td>0.0</td>\n",
       "      <td>1.77e+04</td>\n",
       "      <td>0.9989</td>\n",
       "    </tr>\n",
       "  </tbody>\n",
       "</table>\n",
       "</div>"
      ],
      "text/plain": [
       "           n       r         CI95%  p-val      BF10   power\n",
       "pearson  185  0.3546  [0.22, 0.47]    0.0  1.77e+04  0.9989"
      ]
     },
     "execution_count": 320,
     "metadata": {},
     "output_type": "execute_result"
    }
   ],
   "source": [
    "pg.corr(x=d['alcohol_consumption'], y=d['suicide_per_100th']).round(4)"
   ]
  },
  {
   "cell_type": "code",
   "execution_count": 321,
   "id": "e44c77dd-1ba0-43b0-a647-f2370e25a4e5",
   "metadata": {},
   "outputs": [
    {
     "data": {
      "text/plain": [
       "<seaborn.axisgrid.FacetGrid at 0x2832b3af580>"
      ]
     },
     "execution_count": 321,
     "metadata": {},
     "output_type": "execute_result"
    },
    {
     "data": {
      "image/png": "[encoded data removed]",
      "text/plain": [
       "<Figure size 360x360 with 1 Axes>"
      ]
     },
     "metadata": {},
     "output_type": "display_data"
    }
   ],
   "source": [
    "g = sns.lmplot(x='alcohol_consumption', y='suicide_per_100th', data=d, scatter_kws={'s':20, 'alpha':0.6})\n",
    "\n",
    "g.set_xlabels('Spożycie alkoholu na dorosłą osobę (L)', labelpad=10)\n",
    "g.set_ylabels('Samobójstwa na 100 tyś.', labelpad=10)"
   ]
  },
  {
   "cell_type": "markdown",
   "id": "7c49f2b6-4308-4c75-a5df-2f7cb86f14cc",
   "metadata": {},
   "source": [
    "W celu sprawdzenia czy spożycie alkoholu  jest powiązane z ilością samobójstw wykonano analizę korelacji r Pearsona. Wynik analizy okazał się istotny statystycznie, r = 0.36 ; p < 0.001. Istnieje średnia, dodatnia korelacja pomiędzy zmiennymi. Interpretując uzyskany wynik analizy korelacji możemy powiedzieć, że ze wzrostem ilości spożytego alkoholu wzrasta szansa na popełnienie samobójstwa."
   ]
  },
  {
   "cell_type": "markdown",
   "id": "e1eab798-67c3-452a-be23-5387c5dd789e",
   "metadata": {},
   "source": [
    "## Regresja liniowa"
   ]
  },
  {
   "cell_type": "markdown",
   "id": "05c18f6c-f449-400c-a3d7-a23d180d3e9c",
   "metadata": {},
   "source": [
    "### Czy można przewidywać samobójstwa na postawie ilości spożytego alkoholu?"
   ]
  },
  {
   "cell_type": "code",
   "execution_count": 329,
   "id": "1459fccc-7812-4f1f-ae01-1a630f51c194",
   "metadata": {},
   "outputs": [
    {
     "data": {
      "text/html": [
       "<table class=\"simpletable\">\n",
       "<caption>OLS Regression Results</caption>\n",
       "<tr>\n",
       "  <th>Dep. Variable:</th>    <td>suicide_per_100th</td> <th>  R-squared:         </th> <td>   0.126</td>\n",
       "</tr>\n",
       "<tr>\n",
       "  <th>Model:</th>                   <td>OLS</td>        <th>  Adj. R-squared:    </th> <td>   0.121</td>\n",
       "</tr>\n",
       "<tr>\n",
       "  <th>Method:</th>             <td>Least Squares</td>   <th>  F-statistic:       </th> <td>   26.33</td>\n",
       "</tr>\n",
       "<tr>\n",
       "  <th>Date:</th>             <td>Mon, 10 Jan 2022</td>  <th>  Prob (F-statistic):</th> <td>7.32e-07</td>\n",
       "</tr>\n",
       "<tr>\n",
       "  <th>Time:</th>                 <td>17:55:00</td>      <th>  Log-Likelihood:    </th> <td> -590.18</td>\n",
       "</tr>\n",
       "<tr>\n",
       "  <th>No. Observations:</th>      <td>   185</td>       <th>  AIC:               </th> <td>   1184.</td>\n",
       "</tr>\n",
       "<tr>\n",
       "  <th>Df Residuals:</th>          <td>   183</td>       <th>  BIC:               </th> <td>   1191.</td>\n",
       "</tr>\n",
       "<tr>\n",
       "  <th>Df Model:</th>              <td>     1</td>       <th>                     </th>     <td> </td>   \n",
       "</tr>\n",
       "<tr>\n",
       "  <th>Covariance Type:</th>      <td>nonrobust</td>     <th>                     </th>     <td> </td>   \n",
       "</tr>\n",
       "</table>\n",
       "<table class=\"simpletable\">\n",
       "<tr>\n",
       "           <td></td>              <th>coef</th>     <th>std err</th>      <th>t</th>      <th>P>|t|</th>  <th>[0.025</th>    <th>0.975]</th>  \n",
       "</tr>\n",
       "<tr>\n",
       "  <th>Intercept</th>           <td>    6.5503</td> <td>    0.736</td> <td>    8.903</td> <td> 0.000</td> <td>    5.099</td> <td>    8.002</td>\n",
       "</tr>\n",
       "<tr>\n",
       "  <th>alcohol_consumption</th> <td>    0.4554</td> <td>    0.089</td> <td>    5.131</td> <td> 0.000</td> <td>    0.280</td> <td>    0.631</td>\n",
       "</tr>\n",
       "</table>\n",
       "<table class=\"simpletable\">\n",
       "<tr>\n",
       "  <th>Omnibus:</th>       <td>60.685</td> <th>  Durbin-Watson:     </th> <td>   2.025</td>\n",
       "</tr>\n",
       "<tr>\n",
       "  <th>Prob(Omnibus):</th> <td> 0.000</td> <th>  Jarque-Bera (JB):  </th> <td> 147.636</td>\n",
       "</tr>\n",
       "<tr>\n",
       "  <th>Skew:</th>          <td> 1.441</td> <th>  Prob(JB):          </th> <td>8.74e-33</td>\n",
       "</tr>\n",
       "<tr>\n",
       "  <th>Kurtosis:</th>      <td> 6.293</td> <th>  Cond. No.          </th> <td>    14.2</td>\n",
       "</tr>\n",
       "</table><br/><br/>Notes:<br/>[1] Standard Errors assume that the covariance matrix of the errors is correctly specified."
      ],
      "text/plain": [
       "<class 'statsmodels.iolib.summary.Summary'>\n",
       "\"\"\"\n",
       "                            OLS Regression Results                            \n",
       "==============================================================================\n",
       "Dep. Variable:      suicide_per_100th   R-squared:                       0.126\n",
       "Model:                            OLS   Adj. R-squared:                  0.121\n",
       "Method:                 Least Squares   F-statistic:                     26.33\n",
       "Date:                Mon, 10 Jan 2022   Prob (F-statistic):           7.32e-07\n",
       "Time:                        17:55:00   Log-Likelihood:                -590.18\n",
       "No. Observations:                 185   AIC:                             1184.\n",
       "Df Residuals:                     183   BIC:                             1191.\n",
       "Df Model:                           1                                         \n",
       "Covariance Type:            nonrobust                                         \n",
       "=======================================================================================\n",
       "                          coef    std err          t      P>|t|      [0.025      0.975]\n",
       "---------------------------------------------------------------------------------------\n",
       "Intercept               6.5503      0.736      8.903      0.000       5.099       8.002\n",
       "alcohol_consumption     0.4554      0.089      5.131      0.000       0.280       0.631\n",
       "==============================================================================\n",
       "Omnibus:                       60.685   Durbin-Watson:                   2.025\n",
       "Prob(Omnibus):                  0.000   Jarque-Bera (JB):              147.636\n",
       "Skew:                           1.441   Prob(JB):                     8.74e-33\n",
       "Kurtosis:                       6.293   Cond. No.                         14.2\n",
       "==============================================================================\n",
       "\n",
       "Notes:\n",
       "[1] Standard Errors assume that the covariance matrix of the errors is correctly specified.\n",
       "\"\"\""
      ]
     },
     "execution_count": 329,
     "metadata": {},
     "output_type": "execute_result"
    }
   ],
   "source": [
    "model = smf.ols('suicide_per_100th ~ alcohol_consumption', data=d).fit()\n",
    "results = model.summary()\n",
    "results"
   ]
  },
  {
   "cell_type": "code",
   "execution_count": 323,
   "id": "1b91379c-8580-48a9-8187-04658cb9feb5",
   "metadata": {},
   "outputs": [
    {
     "data": {
      "text/plain": [
       "'F(1, 183) = 26.33 ; p < 0.001'"
      ]
     },
     "execution_count": 323,
     "metadata": {},
     "output_type": "execute_result"
    }
   ],
   "source": [
    "def F(model, rnd= 2, prnd= 3):\n",
    "    p = model2.f_pvalue\n",
    "    pFillIn = f'< 0.001' if p < 0.001 else f'= {np.around(p, prnd)}'\n",
    "    return f'F({int(model.df_model)}, {int(model.df_resid)}) = {np.around(model.fvalue, rnd)} ; p {pFillIn}'\n",
    "\n",
    "F(model)"
   ]
  },
  {
   "cell_type": "code",
   "execution_count": 324,
   "id": "c9e0bb76-1c87-4207-96bf-886e657d2b5f",
   "metadata": {},
   "outputs": [
    {
     "data": {
      "text/plain": [
       "(-5.0, 25.0)"
      ]
     },
     "execution_count": 324,
     "metadata": {},
     "output_type": "execute_result"
    },
    {
     "data": {
      "image/png": "[encoded data removed]",
      "text/plain": [
       "<Figure size 360x360 with 1 Axes>"
      ]
     },
     "metadata": {},
     "output_type": "display_data"
    }
   ],
   "source": [
    "g2 = sns.lmplot(x='alcohol_consumption', y='suicide_per_100th', data=d, scatter_kws={'s':20, 'alpha':0.6})\n",
    "plt.hlines(y=d['suicide_per_100th'].mean(), xmin=-5, xmax=25, color='black', linestyles='dashed')\n",
    "\n",
    "g2.set_xlabels('Spożycie alkoholu na dorosłą osobę (L)', labelpad=10)\n",
    "g2.set_ylabels('Samobójstwa na 100 tyś.', labelpad=10)\n",
    "\n",
    "plt.xlim(-5,25)"
   ]
  },
  {
   "cell_type": "markdown",
   "id": "81b6259e-0101-4f33-9611-bcc3cb0f0e28",
   "metadata": {},
   "source": [
    "W celu sprawdzenia czy można przywidywać ilość samobójstw na podstawie ilości spożytego alkoholu, wykonano analizę regresji liniowej. Proponowany model pozwala na przywidywanie ilości samobójstw na podstawie ilości spożytego alkoholu, F(1, 183) = 26.33 ; p = < 0.001. Równanie regresji możemy zapisać za pomocą wzoru: \n",
    "\n",
    "* Ilość samobójstw = 6.55 + 0.46 * Ilość spożytego alkoholu.\n",
    "\n",
    "Ten model wyjaśnia 12.6% wariancji samobójstw. Samobójstwa są średnie powiązane z ilością spożytego alkoholu (r = 0.36 ; p < 0.001). Analiza regresji liniowej potwierdza wynik uzyskany przy przeprowadzeniu analizy korelacji."
   ]
  },
  {
   "cell_type": "markdown",
   "id": "ba886507-7dc4-4db9-a64a-4c617e3d1234",
   "metadata": {},
   "source": [
    "## Regresja wielozmiennowa"
   ]
  },
  {
   "cell_type": "markdown",
   "id": "1cf86329-c035-421a-9a38-8d31989ddc59",
   "metadata": {},
   "source": [
    "### Czy można przywidywać samobójstwa na podstawie ilości spożytego alkoholu oraz poziomu urbanizacji?"
   ]
  },
  {
   "cell_type": "code",
   "execution_count": 325,
   "id": "da86157a-6978-4df5-8843-6ee88bfcde9a",
   "metadata": {},
   "outputs": [
    {
     "data": {
      "text/html": [
       "<table class=\"simpletable\">\n",
       "<caption>OLS Regression Results</caption>\n",
       "<tr>\n",
       "  <th>Dep. Variable:</th>    <td>scale(suicide_per_100th)</td> <th>  R-squared:         </th> <td>   0.173</td>\n",
       "</tr>\n",
       "<tr>\n",
       "  <th>Model:</th>                       <td>OLS</td>           <th>  Adj. R-squared:    </th> <td>   0.159</td>\n",
       "</tr>\n",
       "<tr>\n",
       "  <th>Method:</th>                 <td>Least Squares</td>      <th>  F-statistic:       </th> <td>   12.36</td>\n",
       "</tr>\n",
       "<tr>\n",
       "  <th>Date:</th>                 <td>Mon, 10 Jan 2022</td>     <th>  Prob (F-statistic):</th> <td>2.23e-07</td>\n",
       "</tr>\n",
       "<tr>\n",
       "  <th>Time:</th>                     <td>17:54:39</td>         <th>  Log-Likelihood:    </th> <td> -240.07</td>\n",
       "</tr>\n",
       "<tr>\n",
       "  <th>No. Observations:</th>          <td>   181</td>          <th>  AIC:               </th> <td>   488.1</td>\n",
       "</tr>\n",
       "<tr>\n",
       "  <th>Df Residuals:</th>              <td>   177</td>          <th>  BIC:               </th> <td>   500.9</td>\n",
       "</tr>\n",
       "<tr>\n",
       "  <th>Df Model:</th>                  <td>     3</td>          <th>                     </th>     <td> </td>   \n",
       "</tr>\n",
       "<tr>\n",
       "  <th>Covariance Type:</th>          <td>nonrobust</td>        <th>                     </th>     <td> </td>   \n",
       "</tr>\n",
       "</table>\n",
       "<table class=\"simpletable\">\n",
       "<tr>\n",
       "               <td></td>                 <th>coef</th>     <th>std err</th>      <th>t</th>      <th>P>|t|</th>  <th>[0.025</th>    <th>0.975]</th>  \n",
       "</tr>\n",
       "<tr>\n",
       "  <th>Intercept</th>                  <td>   -0.1235</td> <td>    0.108</td> <td>   -1.138</td> <td> 0.256</td> <td>   -0.338</td> <td>    0.091</td>\n",
       "</tr>\n",
       "<tr>\n",
       "  <th>urbanization[T.<50]</th>        <td>    0.3782</td> <td>    0.156</td> <td>    2.421</td> <td> 0.017</td> <td>    0.070</td> <td>    0.686</td>\n",
       "</tr>\n",
       "<tr>\n",
       "  <th>urbanization[T.>80]</th>        <td>   -0.2239</td> <td>    0.204</td> <td>   -1.097</td> <td> 0.274</td> <td>   -0.627</td> <td>    0.179</td>\n",
       "</tr>\n",
       "<tr>\n",
       "  <th>scale(alcohol_consumption)</th> <td>    0.4210</td> <td>    0.072</td> <td>    5.859</td> <td> 0.000</td> <td>    0.279</td> <td>    0.563</td>\n",
       "</tr>\n",
       "</table>\n",
       "<table class=\"simpletable\">\n",
       "<tr>\n",
       "  <th>Omnibus:</th>       <td>53.168</td> <th>  Durbin-Watson:     </th> <td>   2.040</td>\n",
       "</tr>\n",
       "<tr>\n",
       "  <th>Prob(Omnibus):</th> <td> 0.000</td> <th>  Jarque-Bera (JB):  </th> <td> 118.869</td>\n",
       "</tr>\n",
       "<tr>\n",
       "  <th>Skew:</th>          <td> 1.317</td> <th>  Prob(JB):          </th> <td>1.54e-26</td>\n",
       "</tr>\n",
       "<tr>\n",
       "  <th>Kurtosis:</th>      <td> 5.971</td> <th>  Cond. No.          </th> <td>    3.79</td>\n",
       "</tr>\n",
       "</table><br/><br/>Notes:<br/>[1] Standard Errors assume that the covariance matrix of the errors is correctly specified."
      ],
      "text/plain": [
       "<class 'statsmodels.iolib.summary.Summary'>\n",
       "\"\"\"\n",
       "                               OLS Regression Results                               \n",
       "====================================================================================\n",
       "Dep. Variable:     scale(suicide_per_100th)   R-squared:                       0.173\n",
       "Model:                                  OLS   Adj. R-squared:                  0.159\n",
       "Method:                       Least Squares   F-statistic:                     12.36\n",
       "Date:                      Mon, 10 Jan 2022   Prob (F-statistic):           2.23e-07\n",
       "Time:                              17:54:39   Log-Likelihood:                -240.07\n",
       "No. Observations:                       181   AIC:                             488.1\n",
       "Df Residuals:                           177   BIC:                             500.9\n",
       "Df Model:                                 3                                         \n",
       "Covariance Type:                  nonrobust                                         \n",
       "==============================================================================================\n",
       "                                 coef    std err          t      P>|t|      [0.025      0.975]\n",
       "----------------------------------------------------------------------------------------------\n",
       "Intercept                     -0.1235      0.108     -1.138      0.256      -0.338       0.091\n",
       "urbanization[T.<50]            0.3782      0.156      2.421      0.017       0.070       0.686\n",
       "urbanization[T.>80]           -0.2239      0.204     -1.097      0.274      -0.627       0.179\n",
       "scale(alcohol_consumption)     0.4210      0.072      5.859      0.000       0.279       0.563\n",
       "==============================================================================\n",
       "Omnibus:                       53.168   Durbin-Watson:                   2.040\n",
       "Prob(Omnibus):                  0.000   Jarque-Bera (JB):              118.869\n",
       "Skew:                           1.317   Prob(JB):                     1.54e-26\n",
       "Kurtosis:                       5.971   Cond. No.                         3.79\n",
       "==============================================================================\n",
       "\n",
       "Notes:\n",
       "[1] Standard Errors assume that the covariance matrix of the errors is correctly specified.\n",
       "\"\"\""
      ]
     },
     "execution_count": 325,
     "metadata": {},
     "output_type": "execute_result"
    }
   ],
   "source": [
    "model2 = smf.ols('scale(suicide_per_100th) ~ scale(alcohol_consumption) + urbanization', data=d).fit()\n",
    "results2 = model2.summary()\n",
    "results2"
   ]
  },
  {
   "cell_type": "code",
   "execution_count": 326,
   "id": "dbf383d8-8077-4b7b-b65e-fe70966666e7",
   "metadata": {},
   "outputs": [
    {
     "data": {
      "text/plain": [
       "'F(3, 177) = 12.36 ; p < 0.001'"
      ]
     },
     "execution_count": 326,
     "metadata": {},
     "output_type": "execute_result"
    }
   ],
   "source": [
    "def F2(model2, rnd= 2, prnd= 3):\n",
    "    p2 = model2.f_pvalue\n",
    "    p2FillIn = f'< 0.001' if p2 < 0.001 else f'= {np.around(p2, prnd)}'\n",
    "    return f'F({int(model2.df_model)}, {int(model2.df_resid)}) = {np.around(model2.fvalue, rnd)} ; p {p2FillIn}'\n",
    "\n",
    "F2(model2)"
   ]
  },
  {
   "cell_type": "code",
   "execution_count": 327,
   "id": "15800fa1-539b-4665-9c93-7d0fdd5ef4d9",
   "metadata": {},
   "outputs": [
    {
     "data": {
      "text/html": [
       "<div>\n",
       "<style scoped>\n",
       "    .dataframe tbody tr th:only-of-type {\n",
       "        vertical-align: middle;\n",
       "    }\n",
       "\n",
       "    .dataframe tbody tr th {\n",
       "        vertical-align: top;\n",
       "    }\n",
       "\n",
       "    .dataframe thead th {\n",
       "        text-align: right;\n",
       "    }\n",
       "</style>\n",
       "<table border=\"1\" class=\"dataframe\">\n",
       "  <thead>\n",
       "    <tr style=\"text-align: right;\">\n",
       "      <th></th>\n",
       "      <th>variable</th>\n",
       "      <th>coef</th>\n",
       "      <th>LL</th>\n",
       "      <th>UL</th>\n",
       "    </tr>\n",
       "  </thead>\n",
       "  <tbody>\n",
       "    <tr>\n",
       "      <th>0</th>\n",
       "      <td>Intercept</td>\n",
       "      <td>-0.123511</td>\n",
       "      <td>-0.337616</td>\n",
       "      <td>0.090593</td>\n",
       "    </tr>\n",
       "    <tr>\n",
       "      <th>1</th>\n",
       "      <td>urbanization[T.&lt;50]</td>\n",
       "      <td>0.378164</td>\n",
       "      <td>0.069850</td>\n",
       "      <td>0.686477</td>\n",
       "    </tr>\n",
       "    <tr>\n",
       "      <th>2</th>\n",
       "      <td>urbanization[T.&gt;80]</td>\n",
       "      <td>-0.223856</td>\n",
       "      <td>-0.626740</td>\n",
       "      <td>0.179027</td>\n",
       "    </tr>\n",
       "    <tr>\n",
       "      <th>3</th>\n",
       "      <td>scale(alcohol_consumption)</td>\n",
       "      <td>0.421030</td>\n",
       "      <td>0.279207</td>\n",
       "      <td>0.562852</td>\n",
       "    </tr>\n",
       "  </tbody>\n",
       "</table>\n",
       "</div>"
      ],
      "text/plain": [
       "                     variable      coef        LL        UL\n",
       "0                   Intercept -0.123511 -0.337616  0.090593\n",
       "1         urbanization[T.<50]  0.378164  0.069850  0.686477\n",
       "2         urbanization[T.>80] -0.223856 -0.626740  0.179027\n",
       "3  scale(alcohol_consumption)  0.421030  0.279207  0.562852"
      ]
     },
     "execution_count": 327,
     "metadata": {},
     "output_type": "execute_result"
    }
   ],
   "source": [
    "get_estimates(model2)"
   ]
  },
  {
   "cell_type": "code",
   "execution_count": 328,
   "id": "7df3e609-18d1-40ab-9fcb-d47a221aa70a",
   "metadata": {},
   "outputs": [
    {
     "data": {
      "image/png": "[encoded data removed]",
      "text/plain": [
       "<Figure size 864x576 with 1 Axes>"
      ]
     },
     "metadata": {},
     "output_type": "display_data"
    }
   ],
   "source": [
    "plot_estimates(model=model2, boundaries=(-0.8,0.8))"
   ]
  },
  {
   "cell_type": "markdown",
   "id": "f7f8ec4e-fb65-46d3-9725-69520745899c",
   "metadata": {},
   "source": [
    "W celu sprawdzenia czy można przywidywać samobójstwa na podstawie ilości spożycia alkoholu oraz poziomu urbanizacji, wykonano analizę wielozmiennowej regresji. Proponowany model okazał się dobrze dopasowany do danych, F(3, 177) = 12.36 ; p < 0.001. Ten model przywiduje 15.9% wariancji samobójstw. Równanie regresji możemy zapisać za pomocą wzoru: \n",
    "\n",
    "* Samobójstwo = -0.1235 + 0.3782 * Poziom urbanizacji[<50%] - 0.2239 * Poziom urbanizacji[>80%] + 0.4210 * Spożycie alkoholu.\n",
    "\n",
    "Interpretując uzyskane wyniki możemy powiedzieć, że im więcej osoba spożywa alkoholu tym większa szansa, że popełni samobójstwo. Szansa się zwiększa, jeśli osoba mieszka w kraju, gdzie poziom urbanizacji jest mniejszy od 50%."
   ]
  }
 ],
 "metadata": {
  "kernelspec": {
   "display_name": "Python 3 (ipykernel)",
   "language": "python",
   "name": "python3"
  },
  "language_info": {
   "codemirror_mode": {
    "name": "ipython",
    "version": 3
   },
   "file_extension": ".py",
   "mimetype": "text/x-python",
   "name": "python",
   "nbconvert_exporter": "python",
   "pygments_lexer": "ipython3",
   "version": "3.8.10"
  }
 },
 "nbformat": 4,
 "nbformat_minor": 5
}
